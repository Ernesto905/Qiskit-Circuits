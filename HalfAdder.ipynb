{
 "cells": [
  {
   "cell_type": "code",
   "execution_count": 6,
   "id": "8d10b7fd",
   "metadata": {},
   "outputs": [],
   "source": [
    "from qiskit import QuantumCircuit\n",
    "from qiskit.providers.aer import AerSimulator\n",
    "from qiskit.visualization import plot_histogram"
   ]
  },
  {
   "cell_type": "code",
   "execution_count": 9,
   "id": "80b41df1",
   "metadata": {},
   "outputs": [
    {
     "name": "stdout",
     "output_type": "stream",
     "text": [
      "enter on or off for first (1 on 0 off): 1\n",
      "enter on or off for second (1 on 0 off): 1\n",
      "you typed in 1\n",
      "you typed in 1\n"
     ]
    },
    {
     "data": {
      "text/html": [
       "<pre style=\"word-wrap: normal;white-space: pre;background: #fff0;line-height: 1.1;font-family: &quot;Courier New&quot;,Courier,monospace\">     ┌───┐ ░                 ░       \n",
       "q_0: ┤ X ├─░────────■────■───░───────\n",
       "     ├───┤ ░        │    │   ░       \n",
       "q_1: ┤ X ├─░───■────┼────■───░───────\n",
       "     └───┘ ░ ┌─┴─┐┌─┴─┐  │   ░    ┌─┐\n",
       "q_2: ──────░─┤ X ├┤ X ├──┼───░────┤M├\n",
       "           ░ └───┘└───┘┌─┴─┐ ░ ┌─┐└╥┘\n",
       "q_3: ──────░───────────┤ X ├─░─┤M├─╫─\n",
       "           ░           └───┘ ░ └╥┘ ║ \n",
       "c: 2/═══════════════════════════╩══╩═\n",
       "                                1  0 </pre>"
      ],
      "text/plain": [
       "     ┌───┐ ░                 ░       \n",
       "q_0: ┤ X ├─░────────■────■───░───────\n",
       "     ├───┤ ░        │    │   ░       \n",
       "q_1: ┤ X ├─░───■────┼────■───░───────\n",
       "     └───┘ ░ ┌─┴─┐┌─┴─┐  │   ░    ┌─┐\n",
       "q_2: ──────░─┤ X ├┤ X ├──┼───░────┤M├\n",
       "           ░ └───┘└───┘┌─┴─┐ ░ ┌─┐└╥┘\n",
       "q_3: ──────░───────────┤ X ├─░─┤M├─╫─\n",
       "           ░           └───┘ ░ └╥┘ ║ \n",
       "c: 2/═══════════════════════════╩══╩═\n",
       "                                1  0 "
      ]
     },
     "execution_count": 9,
     "metadata": {},
     "output_type": "execute_result"
    }
   ],
   "source": [
    "qc = QuantumCircuit(4,2)\n",
    "\n",
    "first = input(\"enter on or off for first (1 on 0 off): \")\n",
    "second = input(\"enter on or off for second (1 on 0 off): \")\n",
    "\n",
    "#encode '11'\n",
    "if first == '1': \n",
    "    print('you typed in 1')\n",
    "    qc.x(0)\n",
    "else: print('you typed in: '+first)\n",
    "if second == '1': \n",
    "    qc.x(1)\n",
    "    print('you typed in 1')\n",
    "else: print('you typed in: ' +second)\n",
    "\n",
    "#barriers\n",
    "qc.barrier()\n",
    "#carry out the adder circuit\n",
    "qc.cx(1,2)\n",
    "qc.cx(0,2)\n",
    "\n",
    "\n",
    "\n",
    "#toffoli gate\n",
    "qc.ccx(0,1,3)\n",
    "\n",
    "#measure bottom 2 qubits\n",
    "qc.barrier()\n",
    "qc.measure(3,1)\n",
    "qc.measure(2,0)\n",
    "\n",
    "#draw ciruit\n",
    "qc.draw()\n",
    "\n",
    "\n"
   ]
  },
  {
   "cell_type": "code",
   "execution_count": 10,
   "id": "29202d8d",
   "metadata": {},
   "outputs": [
    {
     "name": "stdout",
     "output_type": "stream",
     "text": [
      "result:  {'10': 1024}\n"
     ]
    }
   ],
   "source": [
    "#setup and simulation\n",
    "sim = AerSimulator()\n",
    "job = sim.run(qc)\n",
    "result = job.result()\n",
    "counts = result.get_counts()\n",
    "\n",
    "print(\"result: \", counts )"
   ]
  },
  {
   "cell_type": "code",
   "execution_count": null,
   "id": "5b65d89c",
   "metadata": {},
   "outputs": [],
   "source": []
  }
 ],
 "metadata": {
  "kernelspec": {
   "display_name": "Python 3",
   "language": "python",
   "name": "python3"
  },
  "language_info": {
   "codemirror_mode": {
    "name": "ipython",
    "version": 3
   },
   "file_extension": ".py",
   "mimetype": "text/x-python",
   "name": "python",
   "nbconvert_exporter": "python",
   "pygments_lexer": "ipython3",
   "version": "3.8.8"
  }
 },
 "nbformat": 4,
 "nbformat_minor": 5
}
