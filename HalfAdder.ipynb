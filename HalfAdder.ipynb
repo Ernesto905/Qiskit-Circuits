{
 "cells": [
  {
   "cell_type": "code",
   "execution_count": 7,
   "id": "8d10b7fd",
   "metadata": {},
   "outputs": [],
   "source": [
    "from qiskit import QuantumCircuit\n",
    "from qiskit.providers.aer import AerSimulator\n",
    "from qiskit.visualization import plot_histogram"
   ]
  },
  {
   "cell_type": "code",
   "execution_count": 21,
   "id": "80b41df1",
   "metadata": {},
   "outputs": [
    {
     "name": "stdout",
     "output_type": "stream",
     "text": [
      "enter on or off for first (1 on 0 off): 1\n",
      "enter on or off for second (1 on 0 off): 1\n"
     ]
    },
    {
     "data": {
      "image/png": "[encoded data removed]",
      "text/plain": [
       "<Figure size 568.197x325.08 with 1 Axes>"
      ]
     },
     "execution_count": 21,
     "metadata": {},
     "output_type": "execute_result"
    }
   ],
   "source": [
    "qc = QuantumCircuit(4,2)\n",
    "\n",
    "#user input the initial states\n",
    "first = input(\"enter on or off for first (1 on 0 off): \")\n",
    "second = input(\"enter on or off for second (1 on 0 off): \")\n",
    "if first == '1' : qc.x(0)\n",
    "if second == '1' : qc.x(1)\n",
    "    \n",
    "\n",
    "#barrier 1\n",
    "qc.barrier()\n",
    "\n",
    "#toffoli gate\n",
    "qc.ccx(0,1,3)\n",
    "\n",
    "#carry out the adder circuit\n",
    "qc.cx(1,2)\n",
    "qc.cx(0,2)\n",
    "\n",
    "\n",
    "#barrier 2\n",
    "qc.barrier()\n",
    "\n",
    "#measure bottom 2 qubits\n",
    "qc.measure(3,1)\n",
    "qc.measure(2,0)\n",
    "\n",
    "%matplotlib inline\n",
    "#draw ciruit\n",
    "qc.draw(output='mpl')"
   ]
  },
  {
   "cell_type": "code",
   "execution_count": 22,
   "id": "29202d8d",
   "metadata": {},
   "outputs": [
    {
     "name": "stdout",
     "output_type": "stream",
     "text": [
      "Value carried is: 1\n",
      "Value summed is 0\n"
     ]
    }
   ],
   "source": [
    "#setup and simulation\n",
    "sim = AerSimulator()\n",
    "job = sim.run(qc)\n",
    "result = job.result()\n",
    "counts = result.get_counts()\n",
    "\n",
    "for carry, Sum in counts:\n",
    "    print(f\"Value carried is: {carry}\" )\n",
    "    print(f\"Value summed is {Sum}\")"
   ]
  },
  {
   "cell_type": "code",
   "execution_count": null,
   "id": "d6091ecc",
   "metadata": {},
   "outputs": [],
   "source": []
  }
 ],
 "metadata": {
  "kernelspec": {
   "display_name": "Python 3",
   "language": "python",
   "name": "python3"
  },
  "language_info": {
   "codemirror_mode": {
    "name": "ipython",
    "version": 3
   },
   "file_extension": ".py",
   "mimetype": "text/x-python",
   "name": "python",
   "nbconvert_exporter": "python",
   "pygments_lexer": "ipython3",
   "version": "3.8.8"
  }
 },
 "nbformat": 4,
 "nbformat_minor": 5
}
