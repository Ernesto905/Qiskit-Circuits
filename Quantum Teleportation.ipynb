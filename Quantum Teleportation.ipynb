{
 "cells": [
  {
   "cell_type": "markdown",
   "id": "0319b059",
   "metadata": {},
   "source": [
    "<h1><center>Quantum Teleportation protocol</center></h1>"
   ]
  },
  {
   "cell_type": "markdown",
   "id": "7186b822",
   "metadata": {},
   "source": [
    "<p><center>Alice owns two qubits</center></p>\n",
    "<p><center>qubit (1) belongs to Alice and her alone:</center></p>\n",
    "$$ \\color{magenta}{\\ket{\\Psi} = \\alpha \\ket{0} + \\beta \\ket{1}} \\\\$$\n",
    "<p><center>qubit (2) is entangled with Bob's. They are in the $\\ket{\\Phi+}$ Bell state:</center></p>\n",
    "\n",
    "$$\\\\ \\color{blue}{\\ket{\\Psi} = \\alpha \\ket{00} + \\beta \\ket{11}} $$\n",
    "<p><center>We may represent our initial state in the following manner</center></p>\n",
    "$${\\ket{\\Psi}} = \\frac{1}{\\sqrt{2}}                                   [\\alpha\\color{magenta}{\\ket{0}} \\color{blue}{(\\ket{00} + \\ket{11})}       + \\beta \\color{magenta}{\\ket{1}} \\color{blue}{(\\ket{00}+\\ket{11})}]$$"
   ]
  },
  {
   "cell_type": "code",
   "execution_count": 58,
   "id": "d6494ecb",
   "metadata": {},
   "outputs": [],
   "source": [
    "from qiskit import QuantumRegister, ClassicalRegister, QuantumCircuit\n",
    "import numpy as np"
   ]
  },
  {
   "cell_type": "code",
   "execution_count": 59,
   "id": "ffcd0dcc",
   "metadata": {},
   "outputs": [],
   "source": [
    "#three different qubits\n",
    "q_reg = QuantumRegister(3, name=\"q\")\n",
    "\n",
    "#Two classical bits to represent our qubits' measurements. \n",
    "c_reg_x = ClassicalRegister(1, name=\"crx\")\n",
    "c_reg_z = ClassicalRegister(1, name=\"crz\")\n",
    "\n",
    "#initialize quantum circuit \n",
    "circuit = QuantumCircuit(q_reg, c_reg_x, c_reg_z)"
   ]
  },
  {
   "cell_type": "code",
   "execution_count": 60,
   "id": "4efb1373",
   "metadata": {},
   "outputs": [
    {
     "data": {
      "image/png": "[encoded data removed]",
      "text/plain": [
       "<Figure size 273.11x325.08 with 1 Axes>"
      ]
     },
     "execution_count": 60,
     "metadata": {},
     "output_type": "execute_result"
    }
   ],
   "source": [
    "#Create the entangled bell pair state between Alice's second and Bob's only qubit\n",
    "circuit.h(1)\n",
    "circuit.cx(1,2)\n",
    "circuit.barrier()\n",
    "\n",
    "\n",
    "circuit.draw('mpl')"
   ]
  },
  {
   "cell_type": "markdown",
   "id": "2166ab1c",
   "metadata": {},
   "source": [
    "<p><center>We will now employ the CNOT gate from Alice's first qubit unto her second</center></p>\n",
    "<p><center>This will result in the following state</center></p>\n",
    "$${\\ket{\\Psi}} = \\frac{1}{\\sqrt{2}}                                   [\\alpha\\color{magenta}{\\ket{0}} \\color{blue}{(\\ket{00} + \\ket{11})}       + \\beta \\color{magenta}{\\ket{1}} \\color{blue}{(\\ket{10}+\\ket{01})}]$$"
   ]
  },
  {
   "cell_type": "code",
   "execution_count": 61,
   "id": "57875fc4",
   "metadata": {},
   "outputs": [
    {
     "data": {
      "image/png": "[encoded data removed]",
      "text/plain": [
       "<Figure size 333.31x325.08 with 1 Axes>"
      ]
     },
     "execution_count": 61,
     "metadata": {},
     "output_type": "execute_result"
    }
   ],
   "source": [
    "circuit.cx(0,1)\n",
    "circuit.draw('mpl')"
   ]
  },
  {
   "cell_type": "markdown",
   "id": "fdbb238b",
   "metadata": {},
   "source": [
    "<p><center>In order to entirely map Alice's initial state unto Bob's, we must measure the first qbit in the $+/-$ basis. We do this by applying a Hadmard transform, then measuring in the standard basis. This will later be used to capture Alice's phase state and teleport it to Bob.</center></p>\n",
    "<p><center>From this, we will obtain:</center></p>\n",
    "$${\\ket{\\Psi}} = \\frac{1}{\\sqrt{2}}                                   [\\alpha\\color{magenta}{(\\ket{0} + \\ket{1})} \\color{blue}{(\\ket{00} + \\ket{11})} + \\beta \\color{magenta}{(\\ket{0} - \\ket{1})} \\color{blue}{(\\ket{10}+\\ket{01})}]$$"
   ]
  },
  {
   "cell_type": "markdown",
   "id": "9d60272a",
   "metadata": {},
   "source": [
    "<p><center>If we re-write this in the following manner by regrouping terms (Note we are taking tensor products, not algebraically multiplying out the states). </center></p>\n",
    "$$\\ket{\\Psi} = \\frac{1}{2}                                    [\\color{blue}{\\ket{00}}(\\alpha\\color{\\magenta}{\\ket{0}}                  +\\beta\\color{magenta}{\\ket{1}})                                           + \\color{blue}{\\ket{01}}(\\alpha\\color{\\magenta}{\\ket{1}}                 +\\beta\\color{magenta}{\\ket{0}})                                           + \\color{blue}{\\ket{10}}(\\alpha\\color{\\magenta}{\\ket{0}}                  -\\beta\\color{magenta}{\\ket{1}})                                           + \\color{blue}{\\ket{11}}(\\alpha\\color{\\magenta}{\\ket{1}}                  -\\beta\\color{magenta}{\\ket{0}})]                                         $$ "
   ]
  },
  {
   "cell_type": "markdown",
   "id": "d1ea9e65",
   "metadata": {},
   "source": [
    " <p><center>Moving forward, Bob's only qubit will be highlighted blue and both of Alice's will be magenta</center></p>\n",
    " <p><center>This leaves us with four possible states for Bob's qubit:</center></p>\n",
    "$$\\color{magenta}{00} \\equiv \\color{blue}{\\alpha\\ket{0} + \\beta\\ket{1}}$$\n",
    "$$\\color{magenta}{01} \\equiv \\color{blue}{\\alpha\\ket{1} + \\beta\\ket{0}}$$\n",
    "$$\\color{magenta}{10} \\equiv \\color{blue}{\\alpha\\ket{0} - \\beta\\ket{1}}$$\n",
    "$$\\color{magenta}{11} \\equiv \\color{blue}{\\alpha\\ket{1} - \\beta\\ket{0}}$$"
   ]
  },
  {
   "cell_type": "code",
   "execution_count": 62,
   "id": "362ce3c6",
   "metadata": {},
   "outputs": [
    {
     "data": {
      "image/png": "[encoded data removed]",
      "text/plain": [
       "<Figure size 393.51x325.08 with 1 Axes>"
      ]
     },
     "execution_count": 62,
     "metadata": {},
     "output_type": "execute_result"
    }
   ],
   "source": [
    "circuit.h(0)\n",
    "circuit.draw('mpl')"
   ]
  },
  {
   "cell_type": "markdown",
   "id": "ff45635f",
   "metadata": {},
   "source": [
    "<p><center>The four possible states for Alice are used to determine what gate must be applied to Bob's qubit in order for it to recover Alice's original $\\ket{\\Psi}$</center></p>\n",
    "<p><center>$\\color{magenta}{00}$ : Do nothing<br>$\\color{magenta}{01}$ : Apply X gate<br>$\\color{magenta}{10}$ : Apply Z gate<br>$\\color{magenta}{11}$ : Apply X gate then Apply Z gate</center></p>"
   ]
  },
  {
   "cell_type": "code",
   "execution_count": 63,
   "id": "e8a06a53",
   "metadata": {},
   "outputs": [
    {
     "data": {
      "image/png": "[encoded data removed]",
      "text/plain": [
       "<Figure size 694.51x325.08 with 1 Axes>"
      ]
     },
     "execution_count": 63,
     "metadata": {},
     "output_type": "execute_result"
    }
   ],
   "source": [
    "#we will measure the qubits and map their results unto the classical registers previously defined\n",
    "circuit.barrier()\n",
    "circuit.measure([1,0], [0,1])\n",
    "\n",
    "#The following methods are used to control qubits based on the results of a classical bit\n",
    "circuit.x(2).c_if(c_reg_x,1)\n",
    "circuit.z(2).c_if(c_reg_z,1)\n",
    "\n",
    "circuit.draw('mpl')"
   ]
  },
  {
   "cell_type": "markdown",
   "id": "6f1cc546",
   "metadata": {},
   "source": [
    "<p>We have successfully mapped Alice's initial qubit $q_{0}$ to Bob's $q_{2}$!</p>"
   ]
  },
  {
   "cell_type": "code",
   "execution_count": null,
   "id": "44855690",
   "metadata": {},
   "outputs": [],
   "source": []
  }
 ],
 "metadata": {
  "kernelspec": {
   "display_name": "Python 3 (ipykernel)",
   "language": "python",
   "name": "python3"
  },
  "language_info": {
   "codemirror_mode": {
    "name": "ipython",
    "version": 3
   },
   "file_extension": ".py",
   "mimetype": "text/x-python",
   "name": "python",
   "nbconvert_exporter": "python",
   "pygments_lexer": "ipython3",
   "version": "3.9.7"
  }
 },
 "nbformat": 4,
 "nbformat_minor": 5
}
